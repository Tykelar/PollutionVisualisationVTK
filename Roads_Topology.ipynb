{
 "cells": [
  {
   "cell_type": "code",
   "execution_count": 52,
   "metadata": {},
   "outputs": [],
   "source": [
    "import pandas as pd\n",
    "import vtk\n",
    "\n",
    "import vtkmodules.vtkInteractionStyle\n",
    "import vtkmodules.vtkRenderingOpenGL2\n",
    "from vtkmodules.vtkCommonColor import vtkNamedColors\n",
    "from vtkmodules.vtkFiltersSources import vtkConeSource\n",
    "from vtkmodules.vtkRenderingCore import (\n",
    "    vtkActor,\n",
    "    vtkPolyDataMapper,\n",
    "    vtkRenderWindow,\n",
    "    vtkRenderer\n",
    ")\n",
    "\n",
    "# Read data\n",
    "roads = pd.read_csv('roads.txt', sep='\\t')\n",
    "\n",
    "colors = vtkNamedColors()\n"
   ]
  },
  {
   "cell_type": "code",
   "execution_count": 53,
   "metadata": {},
   "outputs": [],
   "source": [
    "#Function Create Roads\n",
    "\n",
    "def create_road(x, y, id):\n",
    "    # Define the vertices of the road\n",
    "    points = vtk.vtkPoints()\n",
    "    points.InsertNextPoint(x[0], y[0], 0)  # 0: bottom-left-front\n",
    "    points.InsertNextPoint(x[1], y[1], 0)  # 1: bottom-right-front\n",
    "    points.InsertNextPoint(x[2], y[2], 0)  # 2: bottom-left-back\n",
    "    points.InsertNextPoint(x[3], y[3], 0)  # 3: bottom-right-back\n",
    "    \n",
    "\n",
    "    # Define the face of the road (topology)\n",
    "    faces = vtk.vtkCellArray()\n",
    "\n",
    "    face = vtk.vtkPolygon()\n",
    "    face.GetPointIds().SetNumberOfIds(4)\n",
    "    for j in range(4):\n",
    "        face.GetPointIds().SetId(j, j + 1)\n",
    "    faces.InsertNextCell(face)\n",
    "\n",
    "\n",
    "    # Create a polydata object\n",
    "    rectangle = vtk.vtkPolyData()\n",
    "\n",
    "    # Set the points and polygons\n",
    "    rectangle.SetPoints(points)\n",
    "    rectangle.SetPolys(faces)\n",
    "\n",
    "    # Create a mapper and actor\n",
    "    mapper = vtk.vtkPolyDataMapper()\n",
    "    mapper.SetInputData(rectangle)\n",
    "\n",
    "    actor = vtk.vtkActor()\n",
    "    actor.SetMapper(mapper)\n",
    "    actor.GetProperty().SetColor(colors.GetColor3d('DarkGrey'))\n",
    "\n",
    "    return actor"
   ]
  },
  {
   "cell_type": "code",
   "execution_count": 54,
   "metadata": {},
   "outputs": [],
   "source": [
    "# Initialize the renderer\n",
    "renderer = vtk.vtkRenderer()\n",
    "renderer.SetBackground(colors.GetColor3d('LightBlue'))\n",
    "\n",
    "# For each road id, create the corresponding actor and add it to the renderer\n",
    "for id in roads['id'].unique():\n",
    "    road_data = roads[roads['id'] == id]\n",
    "    x = road_data['x'].values\n",
    "    y = road_data['y'].values\n",
    "    actor = create_road(x, y, id)\n",
    "    renderer.AddActor(actor)\n"
   ]
  },
  {
   "cell_type": "code",
   "execution_count": 55,
   "metadata": {},
   "outputs": [],
   "source": [
    "\n",
    "# Create a render window and add the renderer to it\n",
    "render_window = vtk.vtkRenderWindow()\n",
    "render_window.AddRenderer(renderer)"
   ]
  },
  {
   "cell_type": "code",
   "execution_count": 56,
   "metadata": {},
   "outputs": [],
   "source": [
    "# Create a render window interactor and set the render window for it\n",
    "interactor = vtk.vtkRenderWindowInteractor()\n",
    "interactor.SetRenderWindow(render_window)\n",
    "\n",
    "# Start the visualization\n",
    "interactor.Initialize()\n",
    "interactor.Start()"
   ]
  }
 ],
 "metadata": {
  "kernelspec": {
   "display_name": "Python 3",
   "language": "python",
   "name": "python3"
  },
  "language_info": {
   "codemirror_mode": {
    "name": "ipython",
    "version": 3
   },
   "file_extension": ".py",
   "mimetype": "text/x-python",
   "name": "python",
   "nbconvert_exporter": "python",
   "pygments_lexer": "ipython3",
   "version": "3.11.4"
  },
  "orig_nbformat": 4
 },
 "nbformat": 4,
 "nbformat_minor": 2
}
