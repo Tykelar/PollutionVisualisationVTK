{
 "cells": [
  {
   "cell_type": "markdown",
   "metadata": {},
   "source": [
    "# VTK Visualization of 3D Data"
   ]
  },
  {
   "cell_type": "markdown",
   "metadata": {},
   "source": [
    "#### Read the data"
   ]
  },
  {
   "cell_type": "code",
   "execution_count": 7,
   "metadata": {},
   "outputs": [],
   "source": [
    "import pandas as pd\n",
    "\n",
    "# Buildings\n",
    "buildings = pd.read_csv('buildings.txt', sep='\\t')\n",
    "# Roads\n",
    "roads = pd.read_csv('roads.txt', sep='\\t')\n",
    "# Trees\n",
    "trees = pd.read_csv('trees_baseline.txt', sep='\\t')"
   ]
  },
  {
   "cell_type": "markdown",
   "metadata": {},
   "source": [
    "#### VTK data structures"
   ]
  },
  {
   "cell_type": "code",
   "execution_count": 8,
   "metadata": {},
   "outputs": [],
   "source": [
    "import vtk\n",
    "from vtk.util import numpy_support\n",
    "\n",
    "# Create a new points object\n",
    "points = vtk.vtkPoints()\n",
    "\n",
    "# Add building points to the points object\n",
    "for _, row in buildings.iterrows():\n",
    "    points.InsertNextPoint(row['x'], row['y'], row['z'])\n",
    "\n",
    "# Create a new polydata object and set its points\n",
    "polydata = vtk.vtkPolyData()\n",
    "polydata.SetPoints(points)\n"
   ]
  },
  {
   "cell_type": "markdown",
   "metadata": {},
   "source": [
    "#### Mapper"
   ]
  },
  {
   "cell_type": "code",
   "execution_count": 9,
   "metadata": {},
   "outputs": [],
   "source": [
    "# Create a vertex glyph filter to convert the points into a form that can be displayed\n",
    "glyph_filter = vtk.vtkVertexGlyphFilter()\n",
    "glyph_filter.SetInputData(polydata)\n",
    "glyph_filter.Update()\n",
    "\n",
    "# Create a mapper and set the input to the glyph filter\n",
    "mapper = vtk.vtkPolyDataMapper()\n",
    "mapper.SetInputConnection(glyph_filter.GetOutputPort())\n"
   ]
  },
  {
   "cell_type": "markdown",
   "metadata": {},
   "source": [
    "#### Actor"
   ]
  },
  {
   "cell_type": "code",
   "execution_count": 10,
   "metadata": {},
   "outputs": [],
   "source": [
    "# Create an actor\n",
    "actor = vtk.vtkActor()\n",
    "actor.SetMapper(mapper)\n"
   ]
  },
  {
   "cell_type": "markdown",
   "metadata": {},
   "source": [
    "#### Renderer and render window"
   ]
  },
  {
   "cell_type": "code",
   "execution_count": 11,
   "metadata": {},
   "outputs": [],
   "source": [
    "# Create a renderer and add the actor to it\n",
    "renderer = vtk.vtkRenderer()\n",
    "renderer.AddActor(actor)\n",
    "\n",
    "# Create a render window and add the renderer to it\n",
    "render_window = vtk.vtkRenderWindow()\n",
    "render_window.AddRenderer(renderer)\n"
   ]
  },
  {
   "cell_type": "markdown",
   "metadata": {},
   "source": [
    "#### Window interactor and visualization start"
   ]
  },
  {
   "cell_type": "code",
   "execution_count": 12,
   "metadata": {},
   "outputs": [],
   "source": [
    "# Create a render window interactor and set the render window for it\n",
    "interactor = vtk.vtkRenderWindowInteractor()\n",
    "interactor.SetRenderWindow(render_window)\n",
    "\n",
    "# Start the visualization\n",
    "interactor.Initialize()\n",
    "interactor.Start()\n"
   ]
  }
 ],
 "metadata": {
  "kernelspec": {
   "display_name": "Python 3",
   "language": "python",
   "name": "python3"
  },
  "language_info": {
   "codemirror_mode": {
    "name": "ipython",
    "version": 3
   },
   "file_extension": ".py",
   "mimetype": "text/x-python",
   "name": "python",
   "nbconvert_exporter": "python",
   "pygments_lexer": "ipython3",
   "version": "3.11.4"
  },
  "orig_nbformat": 4
 },
 "nbformat": 4,
 "nbformat_minor": 2
}
