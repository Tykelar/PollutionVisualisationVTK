{
 "cells": [
  {
   "cell_type": "markdown",
   "metadata": {},
   "source": [
    "# Lib Imports"
   ]
  },
  {
   "cell_type": "code",
   "execution_count": 41,
   "metadata": {},
   "outputs": [],
   "source": [
    "import pandas as pd\n",
    "import vtk\n",
    "\n",
    "import vtkmodules.vtkInteractionStyle\n",
    "import vtkmodules.vtkRenderingOpenGL2\n",
    "from vtkmodules.vtkCommonColor import vtkNamedColors\n",
    "from vtkmodules.vtkFiltersSources import vtkConeSource\n",
    "from vtkmodules.vtkRenderingCore import (\n",
    "    vtkActor,\n",
    "    vtkPolyDataMapper,\n",
    "    vtkRenderWindow,\n",
    "    vtkRenderer\n",
    ")\n",
    "\n",
    "\n"
   ]
  },
  {
   "cell_type": "markdown",
   "metadata": {},
   "source": [
    "# Initial Variables Definitions and Data Read"
   ]
  },
  {
   "cell_type": "code",
   "execution_count": 42,
   "metadata": {},
   "outputs": [],
   "source": [
    "#Define Colors\n",
    "colors = vtkNamedColors()\n",
    "\n",
    "# Read data\n",
    "buildings = pd.read_csv('buildings.txt', sep='\\t')\n",
    "trees = pd.read_csv('trees_baseline.txt', sep='\\t')\n",
    "roads = pd.read_csv('roads.txt', sep='\\t')"
   ]
  },
  {
   "cell_type": "markdown",
   "metadata": {},
   "source": [
    "# Functions Definitions"
   ]
  },
  {
   "cell_type": "code",
   "execution_count": 43,
   "metadata": {},
   "outputs": [],
   "source": [
    "#Function Create Building\n",
    "\n",
    "def create_building(x, y, z, id):\n",
    "    # Define the eight vertices of the cube\n",
    "    points = vtk.vtkPoints()\n",
    "    points.InsertNextPoint(x[0], y[0], z)  # 0: bottom-left-front\n",
    "    points.InsertNextPoint(x[1], y[1], z)  # 1: bottom-right-front\n",
    "    points.InsertNextPoint(x[2], y[2], z)  # 2: top-right-front\n",
    "    points.InsertNextPoint(x[3], y[3], z)  # 3: top-left-front\n",
    "    points.InsertNextPoint(x[0], y[0], 0)  # 4: bottom-left-back\n",
    "    points.InsertNextPoint(x[1], y[1], 0)  # 5: bottom-right-back\n",
    "    points.InsertNextPoint(x[2], y[2], 0)  # 6: top-right-back\n",
    "    points.InsertNextPoint(x[3], y[3], 0)  # 7: top-left-back\n",
    "\n",
    "    # Define the six faces of the cube (topology)\n",
    "    faces = vtk.vtkCellArray()\n",
    "\n",
    "    face = vtk.vtkPolygon()\n",
    "    face.GetPointIds().SetNumberOfIds(4)\n",
    "    for j in range(4):  # bottom face\n",
    "        face.GetPointIds().SetId(j, j + 4)\n",
    "    faces.InsertNextCell(face)\n",
    "\n",
    "    face = vtk.vtkPolygon()\n",
    "    face.GetPointIds().SetNumberOfIds(4)\n",
    "    for j in range(4):  # top face\n",
    "        face.GetPointIds().SetId(j, j)\n",
    "    faces.InsertNextCell(face)\n",
    "\n",
    "    for i in range(4):  # side faces\n",
    "        face = vtk.vtkPolygon()\n",
    "        face.GetPointIds().SetNumberOfIds(4)\n",
    "        face.GetPointIds().SetId(0, i)\n",
    "        face.GetPointIds().SetId(1, (i + 1) % 4)\n",
    "        face.GetPointIds().SetId(2, (i + 1) % 4 + 4)\n",
    "        face.GetPointIds().SetId(3, i + 4)\n",
    "        faces.InsertNextCell(face)\n",
    "\n",
    "    # Create a polydata object\n",
    "    cube = vtk.vtkPolyData()\n",
    "\n",
    "    # Set the points and polygons\n",
    "    cube.SetPoints(points)\n",
    "    cube.SetPolys(faces)\n",
    "\n",
    "    # Create a mapper and actor\n",
    "    mapper = vtk.vtkPolyDataMapper()\n",
    "    mapper.SetInputData(cube)\n",
    "\n",
    "    actor = vtk.vtkActor()\n",
    "    actor.SetMapper(mapper)\n",
    "    actor.GetProperty().SetColor(colors.GetColor3d('Yellow'))\n",
    "\n",
    "\n",
    "    return actor\n"
   ]
  },
  {
   "cell_type": "code",
   "execution_count": 44,
   "metadata": {},
   "outputs": [],
   "source": [
    "#Function Create Tree\n",
    "\n",
    "def create_tree(x, y, z, id):\n",
    "    # Define the eight vertices of the cube\n",
    "    points = vtk.vtkPoints()\n",
    "    points.InsertNextPoint(x[0], y[0], z)  # 0: bottom-left-front\n",
    "    points.InsertNextPoint(x[1], y[1], z)  # 1: bottom-right-front\n",
    "    points.InsertNextPoint(x[2], y[2], z)  # 2: top-right-front\n",
    "    points.InsertNextPoint(x[3], y[3], z)  # 3: top-left-front\n",
    "    points.InsertNextPoint(x[0], y[0], 0)  # 4: bottom-left-back\n",
    "    points.InsertNextPoint(x[1], y[1], 0)  # 5: bottom-right-back\n",
    "    points.InsertNextPoint(x[2], y[2], 0)  # 6: top-right-back\n",
    "    points.InsertNextPoint(x[3], y[3], 0)  # 7: top-left-back\n",
    "\n",
    "    # Define the six faces of the cube (topology)\n",
    "    faces = vtk.vtkCellArray()\n",
    "\n",
    "    face = vtk.vtkPolygon()\n",
    "    face.GetPointIds().SetNumberOfIds(4)\n",
    "    for j in range(4):  # bottom face\n",
    "        face.GetPointIds().SetId(j, j + 4)\n",
    "    faces.InsertNextCell(face)\n",
    "\n",
    "    face = vtk.vtkPolygon()\n",
    "    face.GetPointIds().SetNumberOfIds(4)\n",
    "    for j in range(4):  # top face\n",
    "        face.GetPointIds().SetId(j, j)\n",
    "    faces.InsertNextCell(face)\n",
    "\n",
    "    for i in range(4):  # side faces\n",
    "        face = vtk.vtkPolygon()\n",
    "        face.GetPointIds().SetNumberOfIds(4)\n",
    "        face.GetPointIds().SetId(0, i)\n",
    "        face.GetPointIds().SetId(1, (i + 1) % 4)\n",
    "        face.GetPointIds().SetId(2, (i + 1) % 4 + 4)\n",
    "        face.GetPointIds().SetId(3, i + 4)\n",
    "        faces.InsertNextCell(face)\n",
    "\n",
    "    # Create a polydata object\n",
    "    cube = vtk.vtkPolyData()\n",
    "\n",
    "    # Set the points and polygons\n",
    "    cube.SetPoints(points)\n",
    "    cube.SetPolys(faces)\n",
    "\n",
    "    # Create a mapper and actor\n",
    "    mapper = vtk.vtkPolyDataMapper()\n",
    "    mapper.SetInputData(cube)\n",
    "\n",
    "    actor = vtk.vtkActor()\n",
    "    actor.SetMapper(mapper)\n",
    "    actor.GetProperty().SetColor(colors.GetColor3d('Green'))\n",
    "\n",
    "\n",
    "    return actor\n"
   ]
  },
  {
   "cell_type": "code",
   "execution_count": 45,
   "metadata": {},
   "outputs": [],
   "source": [
    "#Function Create Roads\n",
    "\n",
    "def create_road(x, y, id):\n",
    "    # Define the vertices of the road\n",
    "    points = vtk.vtkPoints()\n",
    "    points.InsertNextPoint(x[0], y[0], 0)  # 0: bottom-left-front\n",
    "    points.InsertNextPoint(x[1], y[1], 0)  # 1: bottom-right-front\n",
    "    points.InsertNextPoint(x[2], y[2], 0)  # 2: bottom-left-back\n",
    "    points.InsertNextPoint(x[3], y[3], 0)  # 3: bottom-right-back\n",
    "    \n",
    "\n",
    "    # Define the face of the road (topology)\n",
    "    faces = vtk.vtkCellArray()\n",
    "\n",
    "    face = vtk.vtkPolygon()\n",
    "    face.GetPointIds().SetNumberOfIds(4)\n",
    "    for j in range(4):\n",
    "        face.GetPointIds().SetId(j, j + 1)\n",
    "    faces.InsertNextCell(face)\n",
    "\n",
    "\n",
    "    # Create a polydata object\n",
    "    rectangle = vtk.vtkPolyData()\n",
    "\n",
    "    # Set the points and polygons\n",
    "    rectangle.SetPoints(points)\n",
    "    rectangle.SetPolys(faces)\n",
    "\n",
    "    # Create a mapper and actor\n",
    "    mapper = vtk.vtkPolyDataMapper()\n",
    "    mapper.SetInputData(rectangle)\n",
    "\n",
    "    actor = vtk.vtkActor()\n",
    "    actor.SetMapper(mapper)\n",
    "    actor.GetProperty().SetColor(colors.GetColor3d('DarkGrey'))\n",
    "\n",
    "    return actor"
   ]
  },
  {
   "cell_type": "markdown",
   "metadata": {},
   "source": [
    "# Call the functions"
   ]
  },
  {
   "cell_type": "code",
   "execution_count": 46,
   "metadata": {},
   "outputs": [],
   "source": [
    "# Initialize the renderer\n",
    "renderer = vtk.vtkRenderer()\n",
    "renderer.SetBackground(colors.GetColor3d('LightBlue'))\n",
    "\n",
    "\n",
    "# For each building id, create the corresponding actor and add it to the renderer\n",
    "for id in buildings['id'].unique():\n",
    "    building_data = buildings[buildings['id'] == id]\n",
    "    x = building_data['x'].values\n",
    "    y = building_data['y'].values\n",
    "    z = building_data['z'].values[0]  # height is the same for all points of a building\n",
    "    actor = create_building(x, y, z, id)\n",
    "    renderer.AddActor(actor)\n",
    "\n",
    "    # For each tree id, create the corresponding actor and add it to the renderer\n",
    "for id in trees['id'].unique():\n",
    "    tree_data = trees[trees['id'] == id]\n",
    "    x = tree_data['x'].values\n",
    "    y = tree_data['y'].values\n",
    "    z = tree_data['z'].values[0]  # height is the same for all points of a building\n",
    "    actor = create_tree(x, y, z, id)\n",
    "    renderer.AddActor(actor)\n",
    "\n",
    "    # For each road id, create the corresponding actor and add it to the renderer\n",
    "for id in roads['id'].unique():\n",
    "    road_data = roads[roads['id'] == id]\n",
    "    x = road_data['x'].values\n",
    "    y = road_data['y'].values\n",
    "    actor = create_road(x, y, id)\n",
    "    renderer.AddActor(actor)\n"
   ]
  },
  {
   "cell_type": "markdown",
   "metadata": {},
   "source": [
    "# Create Render Window"
   ]
  },
  {
   "cell_type": "code",
   "execution_count": 47,
   "metadata": {},
   "outputs": [],
   "source": [
    "\n",
    "# Create a render window and add the renderer to it\n",
    "render_window = vtk.vtkRenderWindow()\n",
    "render_window.AddRenderer(renderer)\n",
    "render_window.SetSize(900, 600)\n",
    "render_window.SetWindowName('25 Abril Maquete')\n",
    "\n",
    "\n"
   ]
  },
  {
   "cell_type": "markdown",
   "metadata": {},
   "source": [
    "# Create Interactor"
   ]
  },
  {
   "cell_type": "code",
   "execution_count": 48,
   "metadata": {},
   "outputs": [],
   "source": [
    "# Create a render window interactor and set the render window for it\n",
    "interactor = vtk.vtkRenderWindowInteractor()\n",
    "interactor.SetRenderWindow(render_window)\n",
    "\n",
    "\n",
    "# Start the visualization\n",
    "interactor.Initialize()\n",
    "interactor.Start()"
   ]
  }
 ],
 "metadata": {
  "kernelspec": {
   "display_name": "Python 3",
   "language": "python",
   "name": "python3"
  },
  "language_info": {
   "codemirror_mode": {
    "name": "ipython",
    "version": 3
   },
   "file_extension": ".py",
   "mimetype": "text/x-python",
   "name": "python",
   "nbconvert_exporter": "python",
   "pygments_lexer": "ipython3",
   "version": "3.11.4"
  },
  "orig_nbformat": 4
 },
 "nbformat": 4,
 "nbformat_minor": 2
}
