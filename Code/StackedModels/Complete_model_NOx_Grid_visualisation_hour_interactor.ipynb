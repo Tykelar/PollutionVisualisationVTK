{
 "cells": [
  {
   "cell_type": "markdown",
   "metadata": {},
   "source": [
    "# Lib Imports"
   ]
  },
  {
   "cell_type": "code",
   "execution_count": 17,
   "metadata": {},
   "outputs": [],
   "source": [
    "import vtk\n",
    "import pandas as pd\n",
    "import numpy as np\n",
    "from vtk.util.numpy_support import numpy_to_vtk\n",
    "\n",
    "import vtkmodules.vtkInteractionStyle\n",
    "import vtkmodules.vtkRenderingOpenGL2\n",
    "from vtkmodules.vtkCommonColor import vtkNamedColors\n",
    "from vtkmodules.vtkFiltersSources import vtkConeSource\n",
    "from vtkmodules.vtkRenderingCore import (\n",
    "    vtkActor,\n",
    "    vtkPolyDataMapper,\n",
    "    vtkRenderWindow,\n",
    "    vtkRenderer\n",
    ")\n"
   ]
  },
  {
   "cell_type": "markdown",
   "metadata": {},
   "source": [
    "# Initial Variables Definitions and Data Read"
   ]
  },
  {
   "cell_type": "code",
   "execution_count": 18,
   "metadata": {},
   "outputs": [],
   "source": [
    "#Define Colors\n",
    "colors = vtkNamedColors()\n",
    "\n",
    "# Read structures data\n",
    "buildings = pd.read_csv('../../Structures/buildings.txt', sep='\\t')\n",
    "trees = pd.read_csv('../../Structures/trees_baseline.txt', sep='\\t')\n",
    "roads = pd.read_csv('../../Structures/roads.txt', sep='\\t')\n",
    "\n",
    "\n",
    "# Load the NOx data\n",
    "current_index = 0\n",
    "nox_data = pd.read_csv(f'../../NOx/B_NOx_{current_index}.dat', sep='\\s+')\n",
    "\n"
   ]
  },
  {
   "cell_type": "markdown",
   "metadata": {},
   "source": [
    "# Functions Definitions for the structures"
   ]
  },
  {
   "cell_type": "code",
   "execution_count": 19,
   "metadata": {},
   "outputs": [],
   "source": [
    "#Function Create Building\n",
    "\n",
    "def create_building(x, y, z, id):\n",
    "    # Define the eight vertices of the cube\n",
    "    points = vtk.vtkPoints()\n",
    "    points.InsertNextPoint(x[0], y[0], z)  # 0: bottom-left-front\n",
    "    points.InsertNextPoint(x[1], y[1], z)  # 1: bottom-right-front\n",
    "    points.InsertNextPoint(x[2], y[2], z)  # 2: top-right-front\n",
    "    points.InsertNextPoint(x[3], y[3], z)  # 3: top-left-front\n",
    "    points.InsertNextPoint(x[0], y[0], 0)  # 4: bottom-left-back\n",
    "    points.InsertNextPoint(x[1], y[1], 0)  # 5: bottom-right-back\n",
    "    points.InsertNextPoint(x[2], y[2], 0)  # 6: top-right-back\n",
    "    points.InsertNextPoint(x[3], y[3], 0)  # 7: top-left-back\n",
    "\n",
    "    # Define the six faces of the cube (topology)\n",
    "    faces = vtk.vtkCellArray()\n",
    "\n",
    "    face = vtk.vtkPolygon()\n",
    "    face.GetPointIds().SetNumberOfIds(4)\n",
    "    for j in range(4):  # bottom face\n",
    "        face.GetPointIds().SetId(j, j + 4)\n",
    "    faces.InsertNextCell(face)\n",
    "\n",
    "    face = vtk.vtkPolygon()\n",
    "    face.GetPointIds().SetNumberOfIds(4)\n",
    "    for j in range(4):  # top face\n",
    "        face.GetPointIds().SetId(j, j)\n",
    "    faces.InsertNextCell(face)\n",
    "\n",
    "    for i in range(4):  # side faces\n",
    "        face = vtk.vtkPolygon()\n",
    "        face.GetPointIds().SetNumberOfIds(4)\n",
    "        face.GetPointIds().SetId(0, i)\n",
    "        face.GetPointIds().SetId(1, (i + 1) % 4)\n",
    "        face.GetPointIds().SetId(2, (i + 1) % 4 + 4)\n",
    "        face.GetPointIds().SetId(3, i + 4)\n",
    "        faces.InsertNextCell(face)\n",
    "\n",
    "    # Create a polydata object\n",
    "    cube = vtk.vtkPolyData()\n",
    "\n",
    "    # Set the points and polygons\n",
    "    cube.SetPoints(points)\n",
    "    cube.SetPolys(faces)\n",
    "\n",
    "    # Create mapper and actor\n",
    "    mapper = vtk.vtkPolyDataMapper()\n",
    "    mapper.SetInputData(cube)\n",
    "\n",
    "    actor = vtk.vtkActor()\n",
    "    actor.SetMapper(mapper)\n",
    "    actor.GetProperty().SetColor(colors.GetColor3d('Peru'))\n",
    "\n",
    "\n",
    "    return actor\n"
   ]
  },
  {
   "cell_type": "code",
   "execution_count": 20,
   "metadata": {},
   "outputs": [],
   "source": [
    "#Function Create Tree\n",
    "\n",
    "def create_tree(x, y, z, id):\n",
    "    # Define the eight vertices of the cube\n",
    "    points = vtk.vtkPoints()\n",
    "    points.InsertNextPoint(x[0], y[0], z)  # 0: bottom-left-front\n",
    "    points.InsertNextPoint(x[1], y[1], z)  # 1: bottom-right-front\n",
    "    points.InsertNextPoint(x[2], y[2], z)  # 2: top-right-front\n",
    "    points.InsertNextPoint(x[3], y[3], z)  # 3: top-left-front\n",
    "    points.InsertNextPoint(x[0], y[0], 0)  # 4: bottom-left-back\n",
    "    points.InsertNextPoint(x[1], y[1], 0)  # 5: bottom-right-back\n",
    "    points.InsertNextPoint(x[2], y[2], 0)  # 6: top-right-back\n",
    "    points.InsertNextPoint(x[3], y[3], 0)  # 7: top-left-back\n",
    "\n",
    "    # Define the six faces of the cube (topology)\n",
    "    faces = vtk.vtkCellArray()\n",
    "\n",
    "    face = vtk.vtkPolygon()\n",
    "    face.GetPointIds().SetNumberOfIds(4)\n",
    "    for j in range(4):  # bottom face\n",
    "        face.GetPointIds().SetId(j, j + 4)\n",
    "    faces.InsertNextCell(face)\n",
    "\n",
    "    face = vtk.vtkPolygon()\n",
    "    face.GetPointIds().SetNumberOfIds(4)\n",
    "    for j in range(4):  # top face\n",
    "        face.GetPointIds().SetId(j, j)\n",
    "    faces.InsertNextCell(face)\n",
    "\n",
    "    for i in range(4):  # side faces\n",
    "        face = vtk.vtkPolygon()\n",
    "        face.GetPointIds().SetNumberOfIds(4)\n",
    "        face.GetPointIds().SetId(0, i)\n",
    "        face.GetPointIds().SetId(1, (i + 1) % 4)\n",
    "        face.GetPointIds().SetId(2, (i + 1) % 4 + 4)\n",
    "        face.GetPointIds().SetId(3, i + 4)\n",
    "        faces.InsertNextCell(face)\n",
    "\n",
    "    # Create a polydata object\n",
    "    cube = vtk.vtkPolyData()\n",
    "\n",
    "    # Set the points and polygons\n",
    "    cube.SetPoints(points)\n",
    "    cube.SetPolys(faces)\n",
    "\n",
    "    # Create a mapper and actor\n",
    "    mapper = vtk.vtkPolyDataMapper()\n",
    "    mapper.SetInputData(cube)\n",
    "\n",
    "    actor = vtk.vtkActor()\n",
    "    actor.SetMapper(mapper)\n",
    "    actor.GetProperty().SetColor(colors.GetColor3d('Green'))\n",
    "\n",
    "\n",
    "    return actor\n"
   ]
  },
  {
   "cell_type": "code",
   "execution_count": 21,
   "metadata": {},
   "outputs": [],
   "source": [
    "#Function Create Roads\n",
    "\n",
    "def create_road(x, y, id):\n",
    "    # Define the vertices of the road\n",
    "    points = vtk.vtkPoints()\n",
    "    points.InsertNextPoint(x[0], y[0], 0)  # 0: bottom-left-front\n",
    "    points.InsertNextPoint(x[1], y[1], 0)  # 1: bottom-right-front\n",
    "    points.InsertNextPoint(x[2], y[2], 0)  # 2: bottom-left-back\n",
    "    points.InsertNextPoint(x[3], y[3], 0)  # 3: bottom-right-back\n",
    "    \n",
    "\n",
    "    # Define the face of the road (topology)\n",
    "    faces = vtk.vtkCellArray()\n",
    "\n",
    "    face = vtk.vtkPolygon()\n",
    "    face.GetPointIds().SetNumberOfIds(4)\n",
    "    for j in range(4):\n",
    "        face.GetPointIds().SetId(j, j + 1)\n",
    "    faces.InsertNextCell(face)\n",
    "\n",
    "\n",
    "    # Create a polydata object\n",
    "    rectangle = vtk.vtkPolyData()\n",
    "\n",
    "    # Set the points and polygons\n",
    "    rectangle.SetPoints(points)\n",
    "    rectangle.SetPolys(faces)\n",
    "\n",
    "    # Create a mapper and actor\n",
    "    mapper = vtk.vtkPolyDataMapper()\n",
    "    mapper.SetInputData(rectangle)\n",
    "\n",
    "    actor = vtk.vtkActor()\n",
    "    actor.SetMapper(mapper)\n",
    "    actor.GetProperty().SetColor(colors.GetColor3d('Grey'))\n",
    "\n",
    "    return actor"
   ]
  },
  {
   "cell_type": "markdown",
   "metadata": {},
   "source": [
    "# Pollution Image representation"
   ]
  },
  {
   "cell_type": "code",
   "execution_count": 22,
   "metadata": {},
   "outputs": [],
   "source": [
    "# Determine the grid dimensions\n",
    "min_x = nox_data['x'].min()\n",
    "min_y = nox_data['y'].min()\n",
    "max_x = nox_data['x'].max()\n",
    "max_y = nox_data['y'].max()\n",
    "\n",
    "width = int((max_x - min_x) / 3) + 1\n",
    "height = int((max_y - min_y) / 3) + 1\n",
    "\n",
    "# Determine the spacing\n",
    "spacing_x = (max_x - min_x) / (width - 1)\n",
    "spacing_y = (max_y - min_y) / (height - 1)\n",
    "\n",
    "# Create an image data object\n",
    "image_data = vtk.vtkImageData()\n",
    "image_data.SetDimensions(width, height, 1)\n",
    "image_data.SetSpacing(spacing_x, spacing_y, 1) # Set spacing here\n",
    "image_data.SetOrigin(min_x, min_y, 0) # Set origin here\n",
    "image_data.AllocateScalars(vtk.VTK_FLOAT, 1)\n",
    "\n",
    "for index, row in nox_data.iterrows():\n",
    "    i = int((row['x'] - min_x) / 3)\n",
    "    j = int((row['y'] - min_y) / 3)\n",
    "    concentration = row['conc']\n",
    "    image_data.SetScalarComponentFromFloat(i, j, 0, 0, concentration)\n"
   ]
  },
  {
   "cell_type": "markdown",
   "metadata": {},
   "source": [
    "# Lookup Tables for Reversion of Color Gradient"
   ]
  },
  {
   "cell_type": "markdown",
   "metadata": {},
   "source": [
    "#### Reversion of Default Table"
   ]
  },
  {
   "cell_type": "code",
   "execution_count": 23,
   "metadata": {},
   "outputs": [],
   "source": [
    "# Define lookup table\n",
    "lookupTable = vtk.vtkLookupTable()\n",
    "#lookup_table.SetTableRange(min_concentration, max_concentration) #Set values if want to visualise for a certain spectrum\n",
    "lookupTable.SetNumberOfTableValues(256) # The number can be altered for a smoother gradient\n",
    "lookupTable.Build()\n",
    "\n",
    "# Reverse the lookup table\n",
    "for i in range(256):\n",
    "    lookupTable.SetTableValue(i, *lookupTable.GetTableValue(255-i))\n",
    "\n"
   ]
  },
  {
   "cell_type": "markdown",
   "metadata": {},
   "source": [
    "#### Visualisation with specified number of colors"
   ]
  },
  {
   "cell_type": "code",
   "execution_count": 24,
   "metadata": {},
   "outputs": [
    {
     "data": {
      "text/plain": [
       "2"
      ]
     },
     "execution_count": 24,
     "metadata": {},
     "output_type": "execute_result"
    }
   ],
   "source": [
    "ctf = vtk.vtkColorTransferFunction()\n",
    "ctf.AddRGBPoint(0, 0, 0, 0)\n",
    "ctf.AddRGBPoint(1, 1, 1, 0)\n",
    "ctf.AddRGBPoint(2, 1, 0, 0)\n",
    "#The first parameter decides which of the two will represent the color for the highest density region meanwhile the other 3 decide on the color chosen\n",
    "#The higher the id (first parameter) of the colors, the higher the concentration it will be represention, with the highest accounting for the densest region\n",
    "#There can be as many colors as the users want as long they are defined in new lines by incrementing the value of the first parameter\n",
    "\n",
    "#Color Codes: \n",
    "# (x, 0, 0, 1) - blue\n",
    "# (x, 0, 1, 0) - green\n",
    "# (x, 1, 1, 0) - yellow\n",
    "# (x, 1, 0, 0) - red\n",
    "# (x, 1, 1, 1) - white\n",
    "# (x, 0, 0, 0) - black\n"
   ]
  },
  {
   "cell_type": "markdown",
   "metadata": {},
   "source": [
    "# Renderer Initialization"
   ]
  },
  {
   "cell_type": "code",
   "execution_count": 25,
   "metadata": {},
   "outputs": [],
   "source": [
    "# Initialize the renderer\n",
    "renderer = vtk.vtkRenderer()\n",
    "#renderer.SetBackground(colors.GetColor3d('LightBlue')) #Background color makes the visualization more unclear\n"
   ]
  },
  {
   "cell_type": "markdown",
   "metadata": {},
   "source": [
    "# Calling the functions for the structures"
   ]
  },
  {
   "cell_type": "code",
   "execution_count": 26,
   "metadata": {},
   "outputs": [],
   "source": [
    "\n",
    "# For each building id, create the corresponding actor and add it to the renderer\n",
    "for id in buildings['id'].unique():\n",
    "    building_data = buildings[buildings['id'] == id]\n",
    "    x = building_data['x'].values\n",
    "    y = building_data['y'].values\n",
    "    z = building_data['z'].values[0]  # height is the same for all points of a building\n",
    "    actor = create_building(x, y, z, id)\n",
    "    renderer.AddActor(actor)\n",
    "\n",
    "    # For each tree id, create the corresponding actor and add it to the renderer\n",
    "for id in trees['id'].unique():\n",
    "    tree_data = trees[trees['id'] == id]\n",
    "    x = tree_data['x'].values\n",
    "    y = tree_data['y'].values\n",
    "    z = tree_data['z'].values[0]  # height is the same for all points of a building\n",
    "    actor = create_tree(x, y, z, id)\n",
    "    renderer.AddActor(actor)\n",
    "\n",
    "    # For each road id, create the corresponding actor and add it to the renderer\n",
    "for id in roads['id'].unique():\n",
    "    road_data = roads[roads['id'] == id]\n",
    "    x = road_data['x'].values\n",
    "    y = road_data['y'].values\n",
    "    actor = create_road(x, y, id)\n",
    "    renderer.AddActor(actor)\n"
   ]
  },
  {
   "cell_type": "markdown",
   "metadata": {},
   "source": [
    "# Glyph Definitions and Pollution Mapper"
   ]
  },
  {
   "cell_type": "code",
   "execution_count": 27,
   "metadata": {},
   "outputs": [],
   "source": [
    "# Create a color mapper\n",
    "color_mapper = vtk.vtkImageMapToColors()\n",
    "color_mapper.SetLookupTable(ctf)\n",
    "color_mapper.SetInputData(image_data)\n",
    "color_mapper.Update()\n",
    "\n",
    "# Create an image actor\n",
    "image_actor = vtk.vtkImageActor()\n",
    "image_actor.GetMapper().SetInputData(color_mapper.GetOutput())\n",
    "\n",
    "# Add the image actor to the renderer\n",
    "renderer.AddActor(image_actor)\n"
   ]
  },
  {
   "cell_type": "markdown",
   "metadata": {},
   "source": [
    "#### Update Visualisation"
   ]
  },
  {
   "cell_type": "code",
   "execution_count": 28,
   "metadata": {},
   "outputs": [],
   "source": [
    "def update_visualization(current_index):\n",
    "    global nox_data\n",
    "    # Load new data\n",
    "    try:\n",
    "        nox_data = pd.read_csv(f'../../NOx/B_NOx_{current_index}.dat', sep='\\s+')\n",
    "\n",
    "        color_mapper.Update()\n",
    "    except FileNotFoundError:\n",
    "        print(f\"File B_NOx_{current_index}.dat not found.\")\n",
    "        return"
   ]
  },
  {
   "cell_type": "markdown",
   "metadata": {},
   "source": [
    "Key event callback"
   ]
  },
  {
   "cell_type": "code",
   "execution_count": 29,
   "metadata": {},
   "outputs": [],
   "source": [
    "def keypress_callback(obj, event):\n",
    "    global current_index\n",
    "    key = obj.GetKeySym()\n",
    "    \n",
    "    # Define actions for different keypress events\n",
    "    if key == \"Right\":\n",
    "        current_index = (current_index + 1) % 24  # Cycle through data\n",
    "    elif key == \"Left\":\n",
    "        current_index = (current_index - 1) % 24  # Cycle through data\n",
    "    \n",
    "    # Update visualization based on new index\n",
    "    update_visualization(current_index)\n"
   ]
  },
  {
   "cell_type": "markdown",
   "metadata": {},
   "source": [
    "# Legend"
   ]
  },
  {
   "cell_type": "code",
   "execution_count": 30,
   "metadata": {},
   "outputs": [],
   "source": [
    "# Create a scalar bar actor\n",
    "scalar_bar = vtk.vtkScalarBarActor()\n",
    "scalar_bar.SetLookupTable(ctf) # Use here the object created for the lookup table\n",
    "scalar_bar.SetTitle(\"Pollution Concentration\")\n",
    "scalar_bar.SetNumberOfLabels(3) # Adjust as to provide the number of labels in the table\n",
    "scalar_bar.SetLabelFormat(\"%.2f\") # Adjust to format the concentration values\n",
    "\n",
    "#Position and size properties\n",
    "scalar_bar.SetPosition(0.1, 0.01)\n",
    "scalar_bar.SetWidth(0.4)\n",
    "scalar_bar.SetHeight(0.1)\n",
    "\n",
    "# Add the scalar bar to the renderer\n",
    "renderer.AddActor2D(scalar_bar)\n"
   ]
  },
  {
   "cell_type": "markdown",
   "metadata": {},
   "source": [
    "# Create Render Window"
   ]
  },
  {
   "cell_type": "code",
   "execution_count": 31,
   "metadata": {},
   "outputs": [],
   "source": [
    "\n",
    "# Create a render window and add the renderer to it\n",
    "render_window = vtk.vtkRenderWindow()\n",
    "render_window.AddRenderer(renderer)\n",
    "render_window.SetSize(900, 600)\n",
    "render_window.SetWindowName('25 Abril Maquete com poluicao registada a x horas')"
   ]
  },
  {
   "cell_type": "markdown",
   "metadata": {},
   "source": [
    "# Create Interactor"
   ]
  },
  {
   "cell_type": "code",
   "execution_count": 32,
   "metadata": {},
   "outputs": [],
   "source": [
    "\n",
    "# Set up render window interactor\n",
    "render_window_interactor = vtk.vtkRenderWindowInteractor()\n",
    "render_window_interactor.SetRenderWindow(render_window)\n",
    "\n",
    "# Add the keypress event callback\n",
    "render_window_interactor.AddObserver(\"KeyPressEvent\", keypress_callback)\n",
    "\n",
    "# Begin interaction\n",
    "render_window_interactor.Initialize()\n",
    "render_window_interactor.Start()"
   ]
  }
 ],
 "metadata": {
  "kernelspec": {
   "display_name": "Python 3",
   "language": "python",
   "name": "python3"
  },
  "language_info": {
   "codemirror_mode": {
    "name": "ipython",
    "version": 3
   },
   "file_extension": ".py",
   "mimetype": "text/x-python",
   "name": "python",
   "nbconvert_exporter": "python",
   "pygments_lexer": "ipython3",
   "version": "3.11.4"
  },
  "orig_nbformat": 4
 },
 "nbformat": 4,
 "nbformat_minor": 2
}
