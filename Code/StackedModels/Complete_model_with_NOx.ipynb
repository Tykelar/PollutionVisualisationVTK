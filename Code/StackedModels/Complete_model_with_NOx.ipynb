{
 "cells": [
  {
   "cell_type": "markdown",
   "metadata": {},
   "source": [
    "# Lib Imports"
   ]
  },
  {
   "cell_type": "code",
   "execution_count": 1,
   "metadata": {},
   "outputs": [],
   "source": [
    "import vtk\n",
    "import pandas as pd\n",
    "import numpy as np\n",
    "from vtk.util.numpy_support import numpy_to_vtk\n",
    "\n",
    "import vtkmodules.vtkInteractionStyle\n",
    "import vtkmodules.vtkRenderingOpenGL2\n",
    "from vtkmodules.vtkCommonColor import vtkNamedColors\n",
    "from vtkmodules.vtkFiltersSources import vtkConeSource\n",
    "from vtkmodules.vtkRenderingCore import (\n",
    "    vtkActor,\n",
    "    vtkPolyDataMapper,\n",
    "    vtkRenderWindow,\n",
    "    vtkRenderer\n",
    ")\n"
   ]
  },
  {
   "cell_type": "markdown",
   "metadata": {},
   "source": [
    "# Initial Variables Definitions and Data Read"
   ]
  },
  {
   "cell_type": "code",
   "execution_count": 2,
   "metadata": {},
   "outputs": [],
   "source": [
    "#Define Colors\n",
    "colors = vtkNamedColors()\n",
    "\n",
    "# Read structures data\n",
    "buildings = pd.read_csv('../../Structures/buildings.txt', sep='\\t')\n",
    "trees = pd.read_csv('../../Structures/trees_baseline.txt', sep='\\t')\n",
    "roads = pd.read_csv('../../Structures/roads.txt', sep='\\t')\n",
    "\n",
    "\n",
    "# Load the NOx data\n",
    "nox_data = pd.read_csv('../../NOx/B_NOx_12.dat', sep='\\s+')\n",
    "\n",
    "#convert numbers as strings to floats \n",
    "nox_data['vel'] = pd.to_numeric(nox_data['vel'], errors='coerce')\n",
    "nox_data['dir'] = pd.to_numeric(nox_data['dir'], errors='coerce')\n",
    "\n",
    "# Convert the direction from degrees to radians\n",
    "nox_data['dir_rad'] = np.radians(nox_data['dir'])\n",
    "\n"
   ]
  },
  {
   "cell_type": "markdown",
   "metadata": {},
   "source": [
    "# Functions Definitions for the structures"
   ]
  },
  {
   "cell_type": "code",
   "execution_count": 3,
   "metadata": {},
   "outputs": [],
   "source": [
    "#Function Create Building\n",
    "\n",
    "def create_building(x, y, z, id):\n",
    "    # Define the eight vertices of the cube\n",
    "    points = vtk.vtkPoints()\n",
    "    points.InsertNextPoint(x[0], y[0], z)  # 0: bottom-left-front\n",
    "    points.InsertNextPoint(x[1], y[1], z)  # 1: bottom-right-front\n",
    "    points.InsertNextPoint(x[2], y[2], z)  # 2: top-right-front\n",
    "    points.InsertNextPoint(x[3], y[3], z)  # 3: top-left-front\n",
    "    points.InsertNextPoint(x[0], y[0], 0)  # 4: bottom-left-back\n",
    "    points.InsertNextPoint(x[1], y[1], 0)  # 5: bottom-right-back\n",
    "    points.InsertNextPoint(x[2], y[2], 0)  # 6: top-right-back\n",
    "    points.InsertNextPoint(x[3], y[3], 0)  # 7: top-left-back\n",
    "\n",
    "    # Define the six faces of the cube (topology)\n",
    "    faces = vtk.vtkCellArray()\n",
    "\n",
    "    face = vtk.vtkPolygon()\n",
    "    face.GetPointIds().SetNumberOfIds(4)\n",
    "    for j in range(4):  # bottom face\n",
    "        face.GetPointIds().SetId(j, j + 4)\n",
    "    faces.InsertNextCell(face)\n",
    "\n",
    "    face = vtk.vtkPolygon()\n",
    "    face.GetPointIds().SetNumberOfIds(4)\n",
    "    for j in range(4):  # top face\n",
    "        face.GetPointIds().SetId(j, j)\n",
    "    faces.InsertNextCell(face)\n",
    "\n",
    "    for i in range(4):  # side faces\n",
    "        face = vtk.vtkPolygon()\n",
    "        face.GetPointIds().SetNumberOfIds(4)\n",
    "        face.GetPointIds().SetId(0, i)\n",
    "        face.GetPointIds().SetId(1, (i + 1) % 4)\n",
    "        face.GetPointIds().SetId(2, (i + 1) % 4 + 4)\n",
    "        face.GetPointIds().SetId(3, i + 4)\n",
    "        faces.InsertNextCell(face)\n",
    "\n",
    "    # Create a polydata object\n",
    "    cube = vtk.vtkPolyData()\n",
    "\n",
    "    # Set the points and polygons\n",
    "    cube.SetPoints(points)\n",
    "    cube.SetPolys(faces)\n",
    "\n",
    "    # Create mapper and actor\n",
    "    mapper = vtk.vtkPolyDataMapper()\n",
    "    mapper.SetInputData(cube)\n",
    "\n",
    "    actor = vtk.vtkActor()\n",
    "    actor.SetMapper(mapper)\n",
    "    actor.GetProperty().SetColor(colors.GetColor3d('Yellow'))\n",
    "\n",
    "\n",
    "    return actor\n"
   ]
  },
  {
   "cell_type": "code",
   "execution_count": 4,
   "metadata": {},
   "outputs": [],
   "source": [
    "#Function Create Tree\n",
    "\n",
    "def create_tree(x, y, z, id):\n",
    "    # Define the eight vertices of the cube\n",
    "    points = vtk.vtkPoints()\n",
    "    points.InsertNextPoint(x[0], y[0], z)  # 0: bottom-left-front\n",
    "    points.InsertNextPoint(x[1], y[1], z)  # 1: bottom-right-front\n",
    "    points.InsertNextPoint(x[2], y[2], z)  # 2: top-right-front\n",
    "    points.InsertNextPoint(x[3], y[3], z)  # 3: top-left-front\n",
    "    points.InsertNextPoint(x[0], y[0], 0)  # 4: bottom-left-back\n",
    "    points.InsertNextPoint(x[1], y[1], 0)  # 5: bottom-right-back\n",
    "    points.InsertNextPoint(x[2], y[2], 0)  # 6: top-right-back\n",
    "    points.InsertNextPoint(x[3], y[3], 0)  # 7: top-left-back\n",
    "\n",
    "    # Define the six faces of the cube (topology)\n",
    "    faces = vtk.vtkCellArray()\n",
    "\n",
    "    face = vtk.vtkPolygon()\n",
    "    face.GetPointIds().SetNumberOfIds(4)\n",
    "    for j in range(4):  # bottom face\n",
    "        face.GetPointIds().SetId(j, j + 4)\n",
    "    faces.InsertNextCell(face)\n",
    "\n",
    "    face = vtk.vtkPolygon()\n",
    "    face.GetPointIds().SetNumberOfIds(4)\n",
    "    for j in range(4):  # top face\n",
    "        face.GetPointIds().SetId(j, j)\n",
    "    faces.InsertNextCell(face)\n",
    "\n",
    "    for i in range(4):  # side faces\n",
    "        face = vtk.vtkPolygon()\n",
    "        face.GetPointIds().SetNumberOfIds(4)\n",
    "        face.GetPointIds().SetId(0, i)\n",
    "        face.GetPointIds().SetId(1, (i + 1) % 4)\n",
    "        face.GetPointIds().SetId(2, (i + 1) % 4 + 4)\n",
    "        face.GetPointIds().SetId(3, i + 4)\n",
    "        faces.InsertNextCell(face)\n",
    "\n",
    "    # Create a polydata object\n",
    "    cube = vtk.vtkPolyData()\n",
    "\n",
    "    # Set the points and polygons\n",
    "    cube.SetPoints(points)\n",
    "    cube.SetPolys(faces)\n",
    "\n",
    "    # Create a mapper and actor\n",
    "    mapper = vtk.vtkPolyDataMapper()\n",
    "    mapper.SetInputData(cube)\n",
    "\n",
    "    actor = vtk.vtkActor()\n",
    "    actor.SetMapper(mapper)\n",
    "    actor.GetProperty().SetColor(colors.GetColor3d('Green'))\n",
    "\n",
    "\n",
    "    return actor\n"
   ]
  },
  {
   "cell_type": "code",
   "execution_count": 5,
   "metadata": {},
   "outputs": [],
   "source": [
    "#Function Create Roads\n",
    "\n",
    "def create_road(x, y, id):\n",
    "    # Define the vertices of the road\n",
    "    points = vtk.vtkPoints()\n",
    "    points.InsertNextPoint(x[0], y[0], 0)  # 0: bottom-left-front\n",
    "    points.InsertNextPoint(x[1], y[1], 0)  # 1: bottom-right-front\n",
    "    points.InsertNextPoint(x[2], y[2], 0)  # 2: bottom-left-back\n",
    "    points.InsertNextPoint(x[3], y[3], 0)  # 3: bottom-right-back\n",
    "    \n",
    "\n",
    "    # Define the face of the road (topology)\n",
    "    faces = vtk.vtkCellArray()\n",
    "\n",
    "    face = vtk.vtkPolygon()\n",
    "    face.GetPointIds().SetNumberOfIds(4)\n",
    "    for j in range(4):\n",
    "        face.GetPointIds().SetId(j, j + 1)\n",
    "    faces.InsertNextCell(face)\n",
    "\n",
    "\n",
    "    # Create a polydata object\n",
    "    rectangle = vtk.vtkPolyData()\n",
    "\n",
    "    # Set the points and polygons\n",
    "    rectangle.SetPoints(points)\n",
    "    rectangle.SetPolys(faces)\n",
    "\n",
    "    # Create a mapper and actor\n",
    "    mapper = vtk.vtkPolyDataMapper()\n",
    "    mapper.SetInputData(rectangle)\n",
    "\n",
    "    actor = vtk.vtkActor()\n",
    "    actor.SetMapper(mapper)\n",
    "    actor.GetProperty().SetColor(colors.GetColor3d('DarkGrey'))\n",
    "\n",
    "    return actor"
   ]
  },
  {
   "cell_type": "markdown",
   "metadata": {},
   "source": [
    "# Pollution values calculations"
   ]
  },
  {
   "cell_type": "code",
   "execution_count": 6,
   "metadata": {},
   "outputs": [
    {
     "data": {
      "text/plain": [
       "1"
      ]
     },
     "execution_count": 6,
     "metadata": {},
     "output_type": "execute_result"
    }
   ],
   "source": [
    "\n",
    "# calculating the vectors for velocity\n",
    "velocity_vectors = np.vstack([nox_data['vel']*np.sin(nox_data['dir']), nox_data['vel']*np.cos(nox_data['dir']), np.zeros_like(nox_data['vel'])]).T\n",
    "\n",
    "# Create the vtkPoints object and add the coordinates to it\n",
    "points = vtk.vtkPoints()\n",
    "for i in range(len(nox_data)):\n",
    "    points.InsertPoint(i, nox_data['x'][i], nox_data['y'][i], 0)\n",
    "\n",
    "# Create the vtkPolyData object and add the points to it\n",
    "nox_polydata = vtk.vtkPolyData()\n",
    "nox_polydata.SetPoints(points)\n",
    "\n",
    "# Convert the velocity and direction into a vector\n",
    "vecs = vtk.vtkDoubleArray()\n",
    "vecs.SetNumberOfComponents(3)\n",
    "vecs.SetName(\"Vectors\")\n",
    "\n",
    "\n",
    "for i in range(len(nox_data)):\n",
    "    # Insert points\n",
    "    points.InsertPoint(i, nox_data['x'][i], nox_data['y'][i], 0)\n",
    "\n",
    "    # Calculate vector components\n",
    "    x_comp = nox_data['vel'][i] * np.cos(nox_data['dir_rad'][i])\n",
    "    y_comp = nox_data['vel'][i] * np.sin(nox_data['dir_rad'][i])\n",
    "    z_comp = 0\n",
    "\n",
    "    # Insert vectors\n",
    "    vecs.InsertTuple3(i, x_comp, y_comp, z_comp)\n",
    "\n",
    "# Create the vtkPolyData object and add the points and vectors to it\n",
    "nox_polydata.SetPoints(points)\n",
    "nox_polydata.GetPointData().SetVectors(vecs)\n",
    "\n",
    "\n",
    "# Convert the concentration into a scalar\n",
    "concentration = numpy_to_vtk(nox_data['conc'].values)\n",
    "\n",
    "# Add the concentration to the polydata\n",
    "nox_polydata.GetPointData().SetScalars(concentration)"
   ]
  },
  {
   "cell_type": "markdown",
   "metadata": {},
   "source": [
    "# Lookup Tables for Reversion of Color Gradient"
   ]
  },
  {
   "cell_type": "markdown",
   "metadata": {},
   "source": [
    "#### Reversion of Default Table"
   ]
  },
  {
   "cell_type": "code",
   "execution_count": 7,
   "metadata": {},
   "outputs": [],
   "source": [
    "# Define lookup table\n",
    "lookupTable = vtk.vtkLookupTable()\n",
    "lookupTable.SetNumberOfTableValues(256) # The number can be altered for a smoother gradient\n",
    "lookupTable.Build()\n",
    "\n",
    "# Reverse the lookup table\n",
    "for i in range(256):\n",
    "    lookupTable.SetTableValue(i, *lookupTable.GetTableValue(255-i))\n",
    "\n"
   ]
  },
  {
   "cell_type": "markdown",
   "metadata": {},
   "source": [
    "#### Visualisation with only two colors"
   ]
  },
  {
   "cell_type": "code",
   "execution_count": 8,
   "metadata": {},
   "outputs": [
    {
     "data": {
      "text/plain": [
       "2"
      ]
     },
     "execution_count": 8,
     "metadata": {},
     "output_type": "execute_result"
    }
   ],
   "source": [
    "ctf = vtk.vtkColorTransferFunction()\n",
    "ctf.AddRGBPoint(0, 0, 0, 0)  \n",
    "ctf.AddRGBPoint(1, 1, 1, 0)\n",
    "ctf.AddRGBPoint(2, 1, 0, 0)\n",
    "#The first parameter decides which of the two will represent the color for the highest density region meanwhile the other 3 decide on the color chosen\n",
    "#The higher the id (first parameter) of the colors, the higher the concentration it will be represention, with the highest accounting for the densest region\n",
    "#There can be as many colors as the users want as long they are defined in new lines by incrementing the value of the first parameter\n",
    "\n",
    "#Color Codes: \n",
    "# (x, 0, 0, 1) - blue\n",
    "# (x, 0, 1, 0) - green\n",
    "# (x, 1, 1, 0) - yellow\n",
    "# (x, 1, 0, 0) - red\n",
    "# (x, 1, 1, 1) - white\n",
    "# (x, 0, 0, 0) - black\n"
   ]
  },
  {
   "cell_type": "markdown",
   "metadata": {},
   "source": [
    "# Renderer Initialization"
   ]
  },
  {
   "cell_type": "code",
   "execution_count": 9,
   "metadata": {},
   "outputs": [],
   "source": [
    "# Initialize the renderer\n",
    "renderer = vtk.vtkRenderer()\n",
    "#renderer.SetBackground(colors.GetColor3d('LightBlue')) #Background color makes the visualization more unclear\n"
   ]
  },
  {
   "cell_type": "markdown",
   "metadata": {},
   "source": [
    "# Calling the functions for the structures"
   ]
  },
  {
   "cell_type": "code",
   "execution_count": 10,
   "metadata": {},
   "outputs": [],
   "source": [
    "\n",
    "# For each building id, create the corresponding actor and add it to the renderer\n",
    "for id in buildings['id'].unique():\n",
    "    building_data = buildings[buildings['id'] == id]\n",
    "    x = building_data['x'].values\n",
    "    y = building_data['y'].values\n",
    "    z = building_data['z'].values[0]  # height is the same for all points of a building\n",
    "    actor = create_building(x, y, z, id)\n",
    "    renderer.AddActor(actor)\n",
    "\n",
    "    # For each tree id, create the corresponding actor and add it to the renderer\n",
    "for id in trees['id'].unique():\n",
    "    tree_data = trees[trees['id'] == id]\n",
    "    x = tree_data['x'].values\n",
    "    y = tree_data['y'].values\n",
    "    z = tree_data['z'].values[0]  # height is the same for all points of a building\n",
    "    actor = create_tree(x, y, z, id)\n",
    "    renderer.AddActor(actor)\n",
    "\n",
    "    # For each road id, create the corresponding actor and add it to the renderer\n",
    "for id in roads['id'].unique():\n",
    "    road_data = roads[roads['id'] == id]\n",
    "    x = road_data['x'].values\n",
    "    y = road_data['y'].values\n",
    "    actor = create_road(x, y, id)\n",
    "    renderer.AddActor(actor)\n"
   ]
  },
  {
   "cell_type": "markdown",
   "metadata": {},
   "source": [
    "# Glyph Definitions and Pollution Mapper"
   ]
  },
  {
   "cell_type": "code",
   "execution_count": 11,
   "metadata": {},
   "outputs": [],
   "source": [
    "# Create a cone\n",
    "cone = vtk.vtkConeSource()\n",
    "\n",
    "# Create a glyph3D object and set the cone as the source\n",
    "glyph = vtk.vtkGlyph3D()\n",
    "glyph.SetSourceConnection(cone.GetOutputPort())\n",
    "glyph.SetInputData(nox_polydata)\n",
    "glyph.SetVectorModeToUseVector()\n",
    "glyph.SetScaleModeToScaleByVector()\n",
    "glyph.SetColorModeToColorByScalar()\n",
    "glyph.Update()\n",
    "\n",
    "# Create a mapper and actor\n",
    "mapper = vtk.vtkPolyDataMapper()\n",
    "mapper.SetInputConnection(glyph.GetOutputPort())\n",
    "\n",
    "# COLOR REPRESENTATION FUNCTION CALL \n",
    "mapper.SetLookupTable(ctf)  #Comment this line to use default gradient, change the name inside the brackets to suit the color function you want \n",
    "\n",
    "actorp = vtk.vtkActor()\n",
    "actorp.SetMapper(mapper)\n",
    "\n",
    "renderer.AddActor(actorp)\n"
   ]
  },
  {
   "cell_type": "markdown",
   "metadata": {},
   "source": [
    "# Create Render Window"
   ]
  },
  {
   "cell_type": "code",
   "execution_count": 12,
   "metadata": {},
   "outputs": [],
   "source": [
    "\n",
    "# Create a render window and add the renderer to it\n",
    "render_window = vtk.vtkRenderWindow()\n",
    "render_window.AddRenderer(renderer)\n",
    "render_window.SetSize(900, 600)\n",
    "render_window.SetWindowName('25 Abril Maquete com poluicao registada às 00:00')"
   ]
  },
  {
   "cell_type": "markdown",
   "metadata": {},
   "source": [
    "# Create Interactor"
   ]
  },
  {
   "cell_type": "code",
   "execution_count": 13,
   "metadata": {},
   "outputs": [],
   "source": [
    "# Create a render window interactor and set the render window for it\n",
    "interactor = vtk.vtkRenderWindowInteractor()\n",
    "interactor.SetRenderWindow(render_window)\n",
    "\n",
    "\n",
    "# Start the visualization\n",
    "interactor.Initialize()\n",
    "interactor.Start()"
   ]
  }
 ],
 "metadata": {
  "kernelspec": {
   "display_name": "Python 3",
   "language": "python",
   "name": "python3"
  },
  "language_info": {
   "codemirror_mode": {
    "name": "ipython",
    "version": 3
   },
   "file_extension": ".py",
   "mimetype": "text/x-python",
   "name": "python",
   "nbconvert_exporter": "python",
   "pygments_lexer": "ipython3",
   "version": "3.11.4"
  },
  "orig_nbformat": 4
 },
 "nbformat": 4,
 "nbformat_minor": 2
}
