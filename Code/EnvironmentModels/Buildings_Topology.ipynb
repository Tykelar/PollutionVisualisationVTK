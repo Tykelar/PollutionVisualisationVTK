{
 "cells": [
  {
   "cell_type": "code",
   "execution_count": 16,
   "metadata": {},
   "outputs": [],
   "source": [
    "import pandas as pd\n",
    "import vtk\n",
    "\n",
    "import vtkmodules.vtkInteractionStyle\n",
    "import vtkmodules.vtkRenderingOpenGL2\n",
    "from vtkmodules.vtkCommonColor import vtkNamedColors\n",
    "from vtkmodules.vtkFiltersSources import vtkConeSource\n",
    "from vtkmodules.vtkRenderingCore import (\n",
    "    vtkActor,\n",
    "    vtkPolyDataMapper,\n",
    "    vtkRenderWindow,\n",
    "    vtkRenderer\n",
    ")\n",
    "\n",
    "#Define Colors\n",
    "\n",
    "colors = vtkNamedColors()\n",
    "\n",
    "# Read data\n",
    "buildings = pd.read_csv('buildings.txt', sep='\\t')"
   ]
  },
  {
   "cell_type": "code",
   "execution_count": 17,
   "metadata": {},
   "outputs": [],
   "source": [
    "#Function Create Building\n",
    "\n",
    "def create_building(x, y, z, id):\n",
    "    # Define the eight vertices of the cube\n",
    "    points = vtk.vtkPoints()\n",
    "    points.InsertNextPoint(x[0], y[0], z)  # 0: bottom-left-front\n",
    "    points.InsertNextPoint(x[1], y[1], z)  # 1: bottom-right-front\n",
    "    points.InsertNextPoint(x[2], y[2], z)  # 2: top-right-front\n",
    "    points.InsertNextPoint(x[3], y[3], z)  # 3: top-left-front\n",
    "    points.InsertNextPoint(x[0], y[0], 0)  # 4: bottom-left-back\n",
    "    points.InsertNextPoint(x[1], y[1], 0)  # 5: bottom-right-back\n",
    "    points.InsertNextPoint(x[2], y[2], 0)  # 6: top-right-back\n",
    "    points.InsertNextPoint(x[3], y[3], 0)  # 7: top-left-back\n",
    "\n",
    "    # Define the six faces of the cube (topology)\n",
    "    faces = vtk.vtkCellArray()\n",
    "\n",
    "    face = vtk.vtkPolygon()\n",
    "    face.GetPointIds().SetNumberOfIds(4)\n",
    "    for j in range(4):  # bottom face\n",
    "        face.GetPointIds().SetId(j, j + 4)\n",
    "    faces.InsertNextCell(face)\n",
    "\n",
    "    face = vtk.vtkPolygon()\n",
    "    face.GetPointIds().SetNumberOfIds(4)\n",
    "    for j in range(4):  # top face\n",
    "        face.GetPointIds().SetId(j, j)\n",
    "    faces.InsertNextCell(face)\n",
    "\n",
    "    for i in range(4):  # side faces\n",
    "        face = vtk.vtkPolygon()\n",
    "        face.GetPointIds().SetNumberOfIds(4)\n",
    "        face.GetPointIds().SetId(0, i)\n",
    "        face.GetPointIds().SetId(1, (i + 1) % 4)\n",
    "        face.GetPointIds().SetId(2, (i + 1) % 4 + 4)\n",
    "        face.GetPointIds().SetId(3, i + 4)\n",
    "        faces.InsertNextCell(face)\n",
    "\n",
    "    # Create a polydata object\n",
    "    cube = vtk.vtkPolyData()\n",
    "\n",
    "    # Set the points and polygons\n",
    "    cube.SetPoints(points)\n",
    "    cube.SetPolys(faces)\n",
    "\n",
    "    # Create a mapper and actor\n",
    "    mapper = vtk.vtkPolyDataMapper()\n",
    "    mapper.SetInputData(cube)\n",
    "\n",
    "    actor = vtk.vtkActor()\n",
    "    actor.SetMapper(mapper)\n",
    "    actor.GetProperty().SetColor(colors.GetColor3d('Yellow'))\n",
    "\n",
    "\n",
    "    return actor\n"
   ]
  },
  {
   "cell_type": "code",
   "execution_count": 18,
   "metadata": {},
   "outputs": [],
   "source": [
    "# Initialize the renderer\n",
    "renderer = vtk.vtkRenderer()\n",
    "renderer.SetBackground(colors.GetColor3d('LightBlue'))\n",
    "\n",
    "\n",
    "# For each building id, create the corresponding actor and add it to the renderer\n",
    "for id in buildings['id'].unique():\n",
    "    building_data = buildings[buildings['id'] == id]\n",
    "    x = building_data['x'].values\n",
    "    y = building_data['y'].values\n",
    "    z = building_data['z'].values[0]  # height is the same for all points of a building\n",
    "    actor = create_building(x, y, z, id)\n",
    "    renderer.AddActor(actor)\n"
   ]
  },
  {
   "cell_type": "code",
   "execution_count": 19,
   "metadata": {},
   "outputs": [],
   "source": [
    "\n",
    "# Create a render window and add the renderer to it\n",
    "render_window = vtk.vtkRenderWindow()\n",
    "render_window.AddRenderer(renderer)"
   ]
  },
  {
   "cell_type": "code",
   "execution_count": 20,
   "metadata": {},
   "outputs": [],
   "source": [
    "# Create a render window interactor and set the render window for it\n",
    "interactor = vtk.vtkRenderWindowInteractor()\n",
    "interactor.SetRenderWindow(render_window)\n",
    "\n",
    "# Start the visualization\n",
    "interactor.Initialize()\n",
    "interactor.Start()"
   ]
  }
 ],
 "metadata": {
  "kernelspec": {
   "display_name": "Python 3",
   "language": "python",
   "name": "python3"
  },
  "language_info": {
   "codemirror_mode": {
    "name": "ipython",
    "version": 3
   },
   "file_extension": ".py",
   "mimetype": "text/x-python",
   "name": "python",
   "nbconvert_exporter": "python",
   "pygments_lexer": "ipython3",
   "version": "3.11.4"
  },
  "orig_nbformat": 4
 },
 "nbformat": 4,
 "nbformat_minor": 2
}
