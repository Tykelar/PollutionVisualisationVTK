{
 "cells": [
  {
   "cell_type": "code",
   "execution_count": 7,
   "metadata": {},
   "outputs": [],
   "source": [
    "import vtk\n",
    "import pandas as pd\n",
    "import numpy as np\n",
    "from vtk.util.numpy_support import numpy_to_vtk\n",
    "\n",
    "import vtkmodules.vtkInteractionStyle\n",
    "import vtkmodules.vtkRenderingOpenGL2\n",
    "from vtkmodules.vtkCommonColor import vtkNamedColors\n",
    "from vtkmodules.vtkFiltersSources import vtkConeSource\n",
    "from vtkmodules.vtkRenderingCore import (\n",
    "    vtkActor,\n",
    "    vtkPolyDataMapper,\n",
    "    vtkRenderWindow,\n",
    "    vtkRenderer\n",
    ")\n"
   ]
  },
  {
   "cell_type": "code",
   "execution_count": 8,
   "metadata": {},
   "outputs": [],
   "source": [
    "# Load the NOx data\n",
    "nox_data = pd.read_csv('../../NOx/B_NOx_0.dat', sep='\\s+')\n",
    "\n",
    "#print(nox_data.head())\n",
    "\n",
    "#convert numbers as strings to floats \n",
    "nox_data['vel'] = pd.to_numeric(nox_data['vel'], errors='coerce')\n",
    "nox_data['dir'] = pd.to_numeric(nox_data['dir'], errors='coerce')\n",
    "\n",
    "\n",
    "# Convert the direction from degrees to radians\n",
    "nox_data['dir_rad'] = np.radians(nox_data['dir'])\n"
   ]
  },
  {
   "cell_type": "code",
   "execution_count": 9,
   "metadata": {},
   "outputs": [
    {
     "data": {
      "text/plain": [
       "1"
      ]
     },
     "execution_count": 9,
     "metadata": {},
     "output_type": "execute_result"
    }
   ],
   "source": [
    "\n",
    "# calculating the vectors for velocity\n",
    "velocity_vectors = np.vstack([nox_data['vel']*np.sin(nox_data['dir']), nox_data['vel']*np.cos(nox_data['dir']), np.zeros_like(nox_data['vel'])]).T\n",
    "\n",
    "# Create the vtkPoints object and add the coordinates to it\n",
    "points = vtk.vtkPoints()\n",
    "for i in range(len(nox_data)):\n",
    "    points.InsertPoint(i, nox_data['x'][i], nox_data['y'][i], 0)\n",
    "\n",
    "# Create the vtkPolyData object and add the points to it\n",
    "nox_polydata = vtk.vtkPolyData()\n",
    "nox_polydata.SetPoints(points)\n",
    "\n",
    "# Convert the velocity and direction into a vector\n",
    "vecs = vtk.vtkDoubleArray()\n",
    "vecs.SetNumberOfComponents(3)\n",
    "vecs.SetName(\"Vectors\")\n",
    "\n",
    "\n",
    "for i in range(len(nox_data)):\n",
    "    # Insert points\n",
    "    points.InsertPoint(i, nox_data['x'][i], nox_data['y'][i], 0)\n",
    "\n",
    "    # Calculate vector components\n",
    "    x_comp = nox_data['vel'][i] * np.cos(nox_data['dir_rad'][i])\n",
    "    y_comp = nox_data['vel'][i] * np.sin(nox_data['dir_rad'][i])\n",
    "    z_comp = 0\n",
    "\n",
    "    # Insert vectors\n",
    "    vecs.InsertTuple3(i, x_comp, y_comp, z_comp)\n",
    "\n",
    "# Create the vtkPolyData object and add the points and vectors to it\n",
    "nox_polydata.SetPoints(points)\n",
    "nox_polydata.GetPointData().SetVectors(vecs)\n",
    "\n",
    "\n",
    "# Convert the concentration into a scalar\n",
    "concentration = numpy_to_vtk(nox_data['conc'].values)\n",
    "\n",
    "# Add the concentration to the polydata\n",
    "nox_polydata.GetPointData().SetScalars(concentration)"
   ]
  },
  {
   "cell_type": "code",
   "execution_count": 10,
   "metadata": {},
   "outputs": [],
   "source": [
    "# Create a cone\n",
    "cone = vtk.vtkConeSource()\n",
    "\n",
    "# Create a glyph3D object and set the cone as the source\n",
    "glyph = vtk.vtkGlyph3D()\n",
    "glyph.SetSourceConnection(cone.GetOutputPort())\n",
    "glyph.SetInputData(nox_polydata)\n",
    "glyph.SetVectorModeToUseVector()\n",
    "glyph.SetScaleModeToScaleByVector()\n",
    "glyph.SetColorModeToColorByScalar()\n",
    "glyph.Update()\n",
    "\n",
    "# Create a mapper and actor\n",
    "mapper = vtk.vtkPolyDataMapper()\n",
    "mapper.SetInputConnection(glyph.GetOutputPort())\n",
    "\n",
    "actor = vtk.vtkActor()\n",
    "actor.SetMapper(mapper)\n"
   ]
  },
  {
   "cell_type": "code",
   "execution_count": 11,
   "metadata": {},
   "outputs": [],
   "source": [
    "# Initialize the renderer\n",
    "renderer = vtk.vtkRenderer()\n",
    "renderer.AddActor(actor)\n",
    "\n",
    "# Create the render window\n",
    "render_window = vtk.vtkRenderWindow()\n",
    "render_window.AddRenderer(renderer)\n",
    "render_window.SetSize(900, 600)\n",
    "render_window.SetWindowName('Polution Distribution')\n",
    "\n",
    "\n",
    "# Create the interactor\n",
    "interactor = vtk.vtkRenderWindowInteractor()\n",
    "interactor.SetRenderWindow(render_window)\n",
    "\n",
    "# Start the visualization\n",
    "interactor.Initialize()\n",
    "interactor.Start()\n"
   ]
  }
 ],
 "metadata": {
  "kernelspec": {
   "display_name": "Python 3",
   "language": "python",
   "name": "python3"
  },
  "language_info": {
   "codemirror_mode": {
    "name": "ipython",
    "version": 3
   },
   "file_extension": ".py",
   "mimetype": "text/x-python",
   "name": "python",
   "nbconvert_exporter": "python",
   "pygments_lexer": "ipython3",
   "version": "3.11.4"
  },
  "orig_nbformat": 4
 },
 "nbformat": 4,
 "nbformat_minor": 2
}
