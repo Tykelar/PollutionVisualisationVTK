{
 "cells": [
  {
   "cell_type": "markdown",
   "metadata": {},
   "source": [
    "# Lib Imports"
   ]
  },
  {
   "cell_type": "code",
   "execution_count": 1,
   "metadata": {},
   "outputs": [],
   "source": [
    "import vtk\n",
    "import pandas as pd\n",
    "import numpy as np\n",
    "from vtk.util.numpy_support import numpy_to_vtk\n",
    "\n",
    "import vtkmodules.vtkInteractionStyle\n",
    "import vtkmodules.vtkRenderingOpenGL2\n",
    "from vtkmodules.vtkCommonColor import vtkNamedColors\n",
    "from vtkmodules.vtkFiltersSources import vtkConeSource\n",
    "from vtkmodules.vtkRenderingCore import (\n",
    "    vtkActor,\n",
    "    vtkPolyDataMapper,\n",
    "    vtkRenderWindow,\n",
    "    vtkRenderer\n",
    ")\n"
   ]
  },
  {
   "cell_type": "markdown",
   "metadata": {},
   "source": [
    "# Initial Variables Definitions and Data Read"
   ]
  },
  {
   "cell_type": "code",
   "execution_count": 2,
   "metadata": {},
   "outputs": [],
   "source": [
    "#Define Colors\n",
    "colors = vtkNamedColors()\n",
    "\n",
    "# Load the NOx data\n",
    "nox_data = pd.read_csv('../../NOx/B_NOx_12.dat', sep='\\s+')\n",
    "\n"
   ]
  },
  {
   "cell_type": "markdown",
   "metadata": {},
   "source": [
    "# Pollution Image representation"
   ]
  },
  {
   "cell_type": "code",
   "execution_count": 3,
   "metadata": {},
   "outputs": [],
   "source": [
    "# Determine the grid dimensions\n",
    "min_x = nox_data['x'].min()\n",
    "min_y = nox_data['y'].min()\n",
    "max_x = nox_data['x'].max()\n",
    "max_y = nox_data['y'].max()\n",
    "\n",
    "width = int((max_x - min_x) / 3) + 1\n",
    "height = int((max_y - min_y) / 3) + 1\n",
    "\n",
    "# Determine the spacing\n",
    "spacing_x = (max_x - min_x) / (width - 1)\n",
    "spacing_y = (max_y - min_y) / (height - 1)\n",
    "\n",
    "# Create an image data object\n",
    "image_data = vtk.vtkImageData()\n",
    "image_data.SetDimensions(width, height, 1)\n",
    "image_data.SetSpacing(spacing_x, spacing_y, 1) # Set the spacing here\n",
    "image_data.SetOrigin(min_x, min_y, 0) # Set the origin here\n",
    "image_data.AllocateScalars(vtk.VTK_FLOAT, 1)\n",
    "\n",
    "for index, row in nox_data.iterrows():\n",
    "    i = int((row['x'] - min_x) / 3)\n",
    "    j = int((row['y'] - min_y) / 3)\n",
    "    concentration = row['conc']\n",
    "    image_data.SetScalarComponentFromFloat(i, j, 0, 0, concentration)\n"
   ]
  },
  {
   "cell_type": "markdown",
   "metadata": {},
   "source": [
    "# Lookup Tables for Reversion of Color Gradient"
   ]
  },
  {
   "cell_type": "markdown",
   "metadata": {},
   "source": [
    "#### Reversion of Default Table"
   ]
  },
  {
   "cell_type": "code",
   "execution_count": 4,
   "metadata": {},
   "outputs": [],
   "source": [
    "# Define lookup table\n",
    "lookupTable = vtk.vtkLookupTable()\n",
    "#lookup_table.SetTableRange(min_concentration, max_concentration) #Set values if want to visualise for a certain spectrum\n",
    "lookupTable.SetNumberOfTableValues(256) # The number can be altered for a smoother gradient\n",
    "lookupTable.Build()\n",
    "\n",
    "# Reverse the lookup table\n",
    "for i in range(256):\n",
    "    lookupTable.SetTableValue(i, *lookupTable.GetTableValue(255-i))\n",
    "\n"
   ]
  },
  {
   "cell_type": "markdown",
   "metadata": {},
   "source": [
    "#### Visualisation with specified number of colors"
   ]
  },
  {
   "cell_type": "code",
   "execution_count": 5,
   "metadata": {},
   "outputs": [
    {
     "data": {
      "text/plain": [
       "2"
      ]
     },
     "execution_count": 5,
     "metadata": {},
     "output_type": "execute_result"
    }
   ],
   "source": [
    "ctf = vtk.vtkColorTransferFunction()\n",
    "ctf.AddRGBPoint(0, 0, 0, 0)\n",
    "ctf.AddRGBPoint(1, 1, 1, 0)\n",
    "ctf.AddRGBPoint(2, 1, 0, 0)\n",
    "#The first parameter decides which of the two will represent the color for the highest density region meanwhile the other 3 decide on the color chosen\n",
    "#The higher the id (first parameter) of the colors, the higher the concentration it will be represention, with the highest accounting for the densest region\n",
    "#There can be as many colors as the users want as long they are defined in new lines by incrementing the value of the first parameter\n",
    "\n",
    "#Color Codes: \n",
    "# (x, 0, 0, 1) - blue\n",
    "# (x, 0, 1, 0) - green\n",
    "# (x, 1, 1, 0) - yellow\n",
    "# (x, 1, 0, 0) - red\n",
    "# (x, 1, 1, 1) - white\n",
    "# (x, 0, 0, 0) - black\n"
   ]
  },
  {
   "cell_type": "markdown",
   "metadata": {},
   "source": [
    "# Renderer Initialization"
   ]
  },
  {
   "cell_type": "code",
   "execution_count": 6,
   "metadata": {},
   "outputs": [],
   "source": [
    "# Initialize the renderer\n",
    "renderer = vtk.vtkRenderer()\n",
    "#renderer.SetBackground(colors.GetColor3d('LightBlue')) #Background color makes the visualization more unclear\n"
   ]
  },
  {
   "cell_type": "markdown",
   "metadata": {},
   "source": [
    "# Glyph Definitions and Pollution Mapper"
   ]
  },
  {
   "cell_type": "code",
   "execution_count": 7,
   "metadata": {},
   "outputs": [],
   "source": [
    "# Create a color mapper\n",
    "color_mapper = vtk.vtkImageMapToColors()\n",
    "color_mapper.SetLookupTable(ctf)\n",
    "color_mapper.SetInputData(image_data)\n",
    "color_mapper.Update()\n",
    "\n",
    "# Create an image actor\n",
    "image_actor = vtk.vtkImageActor()\n",
    "image_actor.GetMapper().SetInputData(color_mapper.GetOutput())\n",
    "\n",
    "# Add the image actor to the renderer\n",
    "renderer.AddActor(image_actor)\n"
   ]
  },
  {
   "cell_type": "markdown",
   "metadata": {},
   "source": [
    "# Legend"
   ]
  },
  {
   "cell_type": "code",
   "execution_count": 8,
   "metadata": {},
   "outputs": [],
   "source": [
    "# Create a scalar bar actor\n",
    "scalar_bar = vtk.vtkScalarBarActor()\n",
    "scalar_bar.SetLookupTable(ctf) # Use here the object created for the lookup table\n",
    "scalar_bar.SetTitle(\"Pollution Concentration\")\n",
    "scalar_bar.SetNumberOfLabels(3) # Adjust as to provide the number of labels in the table\n",
    "scalar_bar.SetLabelFormat(\"%.2f\") # Adjust to format the concentration values\n",
    "\n",
    "#Position and size properties\n",
    "scalar_bar.SetPosition(0.1, 0.01)\n",
    "scalar_bar.SetWidth(0.4)\n",
    "scalar_bar.SetHeight(0.1)\n",
    "\n",
    "# Add the scalar bar to the renderer\n",
    "renderer.AddActor2D(scalar_bar)\n"
   ]
  },
  {
   "cell_type": "markdown",
   "metadata": {},
   "source": [
    "# Create Render Window"
   ]
  },
  {
   "cell_type": "code",
   "execution_count": 9,
   "metadata": {},
   "outputs": [],
   "source": [
    "\n",
    "# Create a render window and add the renderer to it\n",
    "render_window = vtk.vtkRenderWindow()\n",
    "render_window.AddRenderer(renderer)\n",
    "render_window.SetSize(900, 600)\n",
    "render_window.SetWindowName('25 Abril Maquete com poluicao registada a x horas')"
   ]
  },
  {
   "cell_type": "markdown",
   "metadata": {},
   "source": [
    "# Create Interactor"
   ]
  },
  {
   "cell_type": "code",
   "execution_count": 10,
   "metadata": {},
   "outputs": [],
   "source": [
    "# Create a render window interactor and set the render window for it\n",
    "interactor = vtk.vtkRenderWindowInteractor()\n",
    "interactor.SetRenderWindow(render_window)\n",
    "\n",
    "\n",
    "# Start the visualization\n",
    "interactor.Initialize()\n",
    "interactor.Start()"
   ]
  }
 ],
 "metadata": {
  "kernelspec": {
   "display_name": "Python 3",
   "language": "python",
   "name": "python3"
  },
  "language_info": {
   "codemirror_mode": {
    "name": "ipython",
    "version": 3
   },
   "file_extension": ".py",
   "mimetype": "text/x-python",
   "name": "python",
   "nbconvert_exporter": "python",
   "pygments_lexer": "ipython3",
   "version": "3.11.4"
  },
  "orig_nbformat": 4
 },
 "nbformat": 4,
 "nbformat_minor": 2
}
